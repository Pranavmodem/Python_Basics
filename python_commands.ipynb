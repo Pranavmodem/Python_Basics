{
 "cells": [
  {
   "cell_type": "markdown",
   "metadata": {},
   "source": [
    "## LIST & Its methods"
   ]
  },
  {
   "cell_type": "code",
   "execution_count": 75,
   "metadata": {},
   "outputs": [
    {
     "name": "stdout",
     "output_type": "stream",
     "text": [
      "[1, 2, 3, 4, 5] ['a', 'b', 'c', 'd', 'e']\n"
     ]
    }
   ],
   "source": [
    "#Creating list in a regular way - are separated by square braces\n",
    "lista = [1,2,3,4,5]\n",
    "listb = ['a','b','c','d','e']\n",
    "print (lista,listb)\n",
    "\n",
    "\n"
   ]
  },
  {
   "cell_type": "code",
   "execution_count": 76,
   "metadata": {},
   "outputs": [
    {
     "name": "stdout",
     "output_type": "stream",
     "text": [
      "[0, 5, 10, 15] [0, 1, 2, 3, 4, 5, 6, 7]\n"
     ]
    }
   ],
   "source": [
    "#Creating List using Range(start,stop,step)\n",
    "listc = list(range(0,20,5))\n",
    "listd = list(range(8))\n",
    "print (listc,listd)"
   ]
  },
  {
   "cell_type": "code",
   "execution_count": 77,
   "metadata": {},
   "outputs": [
    {
     "name": "stdout",
     "output_type": "stream",
     "text": [
      "([1, 2, 3, 4, 5], ['a', 'b', 'c', 'd', 'e'], [0, 5, 10, 15])\n",
      "[[1, 2, 3, 4, 5], ['a', 'b', 'c', 'd', 'e'], [0, 5, 10, 15]] \n",
      " [1, ([1, 2, 3, 4, 5], ['a', 'b', 'c', 'd', 'e'], [0, 5, 10, 15])]\n"
     ]
    }
   ],
   "source": [
    "#list can be added to tuples and tuple can be added to files\n",
    "tup = (lista,listb,listc)\n",
    "print (tup)\n",
    "list1 = list(tup)\n",
    "list2 = [1,tup]\n",
    "print (list1,\"\\n\",list2)"
   ]
  },
  {
   "cell_type": "markdown",
   "metadata": {},
   "source": [
    "## Types of Methods in List \n",
    "append()\n",
    "clear()\n",
    "copy()\n",
    "count()\n",
    "extend()\n",
    "index()\n",
    "insert()\n",
    "pop()\n",
    "remove()\n",
    "reverse()\n",
    "sort()"
   ]
  },
  {
   "cell_type": "code",
   "execution_count": 78,
   "metadata": {},
   "outputs": [
    {
     "data": {
      "text/plain": [
       "[1, 2, 3, 4, 5, 6]"
      ]
     },
     "execution_count": 78,
     "metadata": {},
     "output_type": "execute_result"
    }
   ],
   "source": [
    "#append() adds input at the end\n",
    "lista.append(6)\n",
    "lista"
   ]
  },
  {
   "cell_type": "code",
   "execution_count": 79,
   "metadata": {},
   "outputs": [
    {
     "data": {
      "text/plain": [
       "['a', 'b', 'c', 'd', 'e', [1, 2, 3, 4, 5, 6]]"
      ]
     },
     "execution_count": 79,
     "metadata": {},
     "output_type": "execute_result"
    }
   ],
   "source": [
    "#append can be used to add list or tuple into targeted list\n",
    "listb.append(lista)\n",
    "listb"
   ]
  },
  {
   "cell_type": "code",
   "execution_count": 80,
   "metadata": {},
   "outputs": [
    {
     "data": {
      "text/plain": [
       "[]"
      ]
     },
     "execution_count": 80,
     "metadata": {},
     "output_type": "execute_result"
    }
   ],
   "source": [
    "#Clear() is used to Delete all the elements in the list\n",
    "listb.clear()\n",
    "listb"
   ]
  },
  {
   "cell_type": "code",
   "execution_count": 81,
   "metadata": {},
   "outputs": [
    {
     "data": {
      "text/plain": [
       "[1, 2, 3, 4, 5, 6]"
      ]
     },
     "execution_count": 81,
     "metadata": {},
     "output_type": "execute_result"
    }
   ],
   "source": [
    "#Copy() is used for Copying the elements in one list to another list\n",
    "listb = lista.copy()\n",
    "listb"
   ]
  },
  {
   "cell_type": "code",
   "execution_count": 82,
   "metadata": {},
   "outputs": [
    {
     "data": {
      "text/plain": [
       "1"
      ]
     },
     "execution_count": 82,
     "metadata": {},
     "output_type": "execute_result"
    }
   ],
   "source": [
    "#Counts the occurence of element in the targeted list\n",
    "listb.count(5)"
   ]
  },
  {
   "cell_type": "code",
   "execution_count": 83,
   "metadata": {},
   "outputs": [
    {
     "data": {
      "text/plain": [
       "[1, 2, 3, 4, 5, 6, 7]"
      ]
     },
     "execution_count": 83,
     "metadata": {},
     "output_type": "execute_result"
    }
   ],
   "source": [
    "#insert(position,value) adds an element in the desired position in a list\n",
    "listb.insert(6,7)\n",
    "listb"
   ]
  },
  {
   "cell_type": "code",
   "execution_count": 84,
   "metadata": {},
   "outputs": [
    {
     "data": {
      "text/plain": [
       "[1, 2, 3, 4, 5, 6, 7, 6, 7, 8, 9]"
      ]
     },
     "execution_count": 84,
     "metadata": {},
     "output_type": "execute_result"
    }
   ],
   "source": [
    "#Extend() is a similar to append \"adding elements to the list at last position\", \n",
    "# but extend is significantly faster to that of append()\n",
    "listb.extend([6,7,8,9])\n",
    "listb\n"
   ]
  },
  {
   "cell_type": "code",
   "execution_count": 85,
   "metadata": {},
   "outputs": [
    {
     "name": "stdout",
     "output_type": "stream",
     "text": [
      "[1, 2, 3, 4, 5, 6, 7, 6, 7, 8, 9]\n"
     ]
    },
    {
     "data": {
      "text/plain": [
       "9"
      ]
     },
     "execution_count": 85,
     "metadata": {},
     "output_type": "execute_result"
    }
   ],
   "source": [
    "#index() provides us with the position of element,\n",
    "#(if multiple occurence of elements, it gives the position of first occurence)\n",
    "print (listb)\n",
    "listb.index(8)\n"
   ]
  },
  {
   "cell_type": "code",
   "execution_count": 86,
   "metadata": {},
   "outputs": [
    {
     "data": {
      "text/plain": [
       "[1, 2, 3, 4, 5, 6, 7, 6, 7, 8]"
      ]
     },
     "execution_count": 86,
     "metadata": {},
     "output_type": "execute_result"
    }
   ],
   "source": [
    "#pop() removes the last element in the list\n",
    "listb.pop()\n",
    "listb\n",
    "\n"
   ]
  },
  {
   "cell_type": "code",
   "execution_count": 87,
   "metadata": {},
   "outputs": [
    {
     "data": {
      "text/plain": [
       "[1, 2, 3, 4, 5, 7, 6, 7, 8]"
      ]
     },
     "execution_count": 87,
     "metadata": {},
     "output_type": "execute_result"
    }
   ],
   "source": [
    "#remove() deletes the first occurence of the selected element\n",
    "listb.remove(6)\n",
    "listb"
   ]
  },
  {
   "cell_type": "code",
   "execution_count": 90,
   "metadata": {},
   "outputs": [
    {
     "name": "stdout",
     "output_type": "stream",
     "text": [
      "[1, 2, 3, 4, 5, 7, 6, 7, 8]\n"
     ]
    },
    {
     "data": {
      "text/plain": [
       "[8, 7, 6, 7, 5, 4, 3, 2, 1]"
      ]
     },
     "execution_count": 90,
     "metadata": {},
     "output_type": "execute_result"
    }
   ],
   "source": [
    "#reverse() Will reverse the order of elements in list\n",
    "print(listb)\n",
    "listb.reverse()\n",
    "listb"
   ]
  },
  {
   "cell_type": "code",
   "execution_count": 91,
   "metadata": {},
   "outputs": [
    {
     "data": {
      "text/plain": [
       "[1, 2, 3, 4, 5, 6, 7, 7, 8]"
      ]
     },
     "execution_count": 91,
     "metadata": {},
     "output_type": "execute_result"
    }
   ],
   "source": [
    "#sort(Key= , Reverse =) \n",
    "#key - function that serves as a key for the sort comparison. (example: key=len, sorts based on length of string)\n",
    "#reverse - If True, the sorted list is reversed (or sorted in Descending order). \n",
    "# By default Reverse = false and list is sorted in ascending order\n",
    "listb.sort() #Output is Ascending order\n",
    "listb\n"
   ]
  },
  {
   "cell_type": "code",
   "execution_count": 93,
   "metadata": {},
   "outputs": [
    {
     "name": "stdout",
     "output_type": "stream",
     "text": [
      "[1, 2, 3, 4, 5, 6, 7, 7, 8]\n"
     ]
    },
    {
     "data": {
      "text/plain": [
       "[8, 7, 7, 6, 5, 4, 3, 2, 1]"
      ]
     },
     "execution_count": 93,
     "metadata": {},
     "output_type": "execute_result"
    }
   ],
   "source": [
    "#Descending order\n",
    "print (listb)\n",
    "listb.sort(reverse=True) \n",
    "listb"
   ]
  },
  {
   "cell_type": "code",
   "execution_count": 96,
   "metadata": {},
   "outputs": [
    {
     "name": "stdout",
     "output_type": "stream",
     "text": [
      "['a', 'bc', 'defg', 'hij', 'klmno', 'pqrstuv', 'wxyz']\n",
      "Ascending order ['a', 'bc', 'hij', 'defg', 'wxyz', 'klmno', 'pqrstuv']\n",
      "descending order ['pqrstuv', 'klmno', 'defg', 'wxyz', 'hij', 'bc', 'a']\n"
     ]
    }
   ],
   "source": [
    "#For strings we have to use \"key=len\" for sorting the list based on string length\n",
    "alphalist = ['a', 'bc', 'defg', 'hij', 'klmno', 'pqrstuv', 'wxyz' ]\n",
    "print(alphalist)\n",
    "alphalist.sort(key=len)\n",
    "print(\"Ascending order\",alphalist)\n",
    "alphalist.sort(key=len,reverse=True)\n",
    "print(\"descending order\",alphalist)\n"
   ]
  },
  {
   "cell_type": "code",
   "execution_count": 99,
   "metadata": {},
   "outputs": [
    {
     "name": "stdout",
     "output_type": "stream",
     "text": [
      "[1, 2, 3, 4, 5, 6] \n",
      " ['pqrstuv', 'klmno', 'defg', 'wxyz', 'hij', 'bc', 'a']\n"
     ]
    },
    {
     "data": {
      "text/plain": [
       "[1, 2, 3, 4, 5, 6, 'pqrstuv', 'klmno', 'defg', 'wxyz', 'hij', 'bc', 'a']"
      ]
     },
     "execution_count": 99,
     "metadata": {},
     "output_type": "execute_result"
    }
   ],
   "source": [
    "#Concatenation can be done among lists using + Operator \n",
    "# |prefer Extend over concatenation as Concatenation has to create a new list|\n",
    "combinedlist = lista + alphalist\n",
    "print(lista,\"\\n\",alphalist)\n",
    "combinedlist"
   ]
  },
  {
   "cell_type": "code",
   "execution_count": 107,
   "metadata": {},
   "outputs": [
    {
     "data": {
      "text/plain": [
       "[1, 2, 3, 4, 5, 6, 1, 2, 3, 4, 5, 6, 1, 2, 3, 4, 5, 6]"
      ]
     },
     "execution_count": 107,
     "metadata": {},
     "output_type": "execute_result"
    }
   ],
   "source": [
    "# \"*\" Operator performs Conacatenation os itself specified no of times\n",
    "lista*3"
   ]
  },
  {
   "cell_type": "code",
   "execution_count": 108,
   "metadata": {},
   "outputs": [
    {
     "name": "stdout",
     "output_type": "stream",
     "text": [
      "[1, 2, 3, 4, 5, 6]\n"
     ]
    },
    {
     "data": {
      "text/plain": [
       "6"
      ]
     },
     "execution_count": 108,
     "metadata": {},
     "output_type": "execute_result"
    }
   ],
   "source": [
    "#bisect: if you are looking to add an element into a list and doesnt know the end position of list, \n",
    "# bisect provides the end position of the list to add an element\n",
    "print(lista)\n",
    "import bisect\n",
    "bisect.bisect(lista,8) #Output is the position where you can add \"8\""
   ]
  },
  {
   "cell_type": "code",
   "execution_count": 110,
   "metadata": {},
   "outputs": [
    {
     "name": "stdout",
     "output_type": "stream",
     "text": [
      "[1, 2, 3, 4, 5, 6]\n"
     ]
    },
    {
     "data": {
      "text/plain": [
       "[1, 2, 3, 4, 5, 6, 8]"
      ]
     },
     "execution_count": 110,
     "metadata": {},
     "output_type": "execute_result"
    }
   ],
   "source": [
    "#insort() : is a function which helps in placing the new element into the position found by bisect\n",
    "print(lista)\n",
    "bisect.insort(lista,8)\n",
    "lista"
   ]
  },
  {
   "cell_type": "code",
   "execution_count": 114,
   "metadata": {},
   "outputs": [
    {
     "name": "stdout",
     "output_type": "stream",
     "text": [
      "[1, 2, 3, 4, 5, 6, 8]\n"
     ]
    },
    {
     "data": {
      "text/plain": [
       "[3, 4]"
      ]
     },
     "execution_count": 114,
     "metadata": {},
     "output_type": "execute_result"
    }
   ],
   "source": [
    "#Slicing List[start:stop:step increment] \n",
    "print(lista)\n",
    "lista[2:4] #Slicing to be done from 2nd position till  the 4th position not including 4th position"
   ]
  },
  {
   "cell_type": "code",
   "execution_count": 113,
   "metadata": {},
   "outputs": [
    {
     "name": "stdout",
     "output_type": "stream",
     "text": [
      "[1, 2, 3, 4, 5, 6, 8]\n"
     ]
    },
    {
     "data": {
      "text/plain": [
       "[2, 4]"
      ]
     },
     "execution_count": 113,
     "metadata": {},
     "output_type": "execute_result"
    }
   ],
   "source": [
    "print(lista)\n",
    "lista[1:4:2] #slicing between 1st and 4th position with an increment of 2"
   ]
  },
  {
   "cell_type": "code",
   "execution_count": 116,
   "metadata": {},
   "outputs": [
    {
     "name": "stdout",
     "output_type": "stream",
     "text": [
      "[1, 2, 3, 4, 5, 6, 8]\n"
     ]
    },
    {
     "data": {
      "text/plain": [
       "[8, 6, 5, 4, 3, 2, 1]"
      ]
     },
     "execution_count": 116,
     "metadata": {},
     "output_type": "execute_result"
    }
   ],
   "source": [
    "print(lista)\n",
    "lista[::-1] #Since increment negative starts from last element and goes further till the first element -reversing the list"
   ]
  },
  {
   "cell_type": "markdown",
   "metadata": {},
   "source": [
    "## Built-in Sequence Functions\n",
    "enumerate(sequence),sorted(sequence),zip(seq1,seq2,...),reversed(sequence)"
   ]
  },
  {
   "cell_type": "code",
   "execution_count": 125,
   "metadata": {},
   "outputs": [
    {
     "name": "stdout",
     "output_type": "stream",
     "text": [
      "['pqrstuv', 'klmno', 'defg', 'wxyz', 'hij', 'bc', 'a']\n"
     ]
    },
    {
     "data": {
      "text/plain": [
       "{0: 'pqrstuv', 1: 'klmno', 2: 'defg', 3: 'wxyz', 4: 'hij', 5: 'bc', 6: 'a'}"
      ]
     },
     "execution_count": 125,
     "metadata": {},
     "output_type": "execute_result"
    }
   ],
   "source": [
    "#Enumerate -Traces the position and value of elements in list. \n",
    "#It returns (i:v)tuples in sequence where \"i\" is position & \"v\" is value\n",
    "enum_list = {}\n",
    "for i,v in  enumerate(alphalist):enum_list[i]=v\n",
    "print(alphalist)\n",
    "enum_list\n",
    "    "
   ]
  },
  {
   "cell_type": "code",
   "execution_count": 131,
   "metadata": {},
   "outputs": [
    {
     "data": {
      "text/plain": [
       "['is', 'this', 'place', 'annoying']"
      ]
     },
     "execution_count": 131,
     "metadata": {},
     "output_type": "execute_result"
    }
   ],
   "source": [
    "#Sorted is similar to list.sort() but can be performen on iterable and doesn't need to have a list to perform\n",
    "sorted(\"this place is annoying\".split(),key = len)"
   ]
  },
  {
   "cell_type": "code",
   "execution_count": 137,
   "metadata": {},
   "outputs": [
    {
     "data": {
      "text/plain": [
       "[(0, 'a', 'x'), (1, 'b', 'y'), (2, 'c', 'z')]"
      ]
     },
     "execution_count": 137,
     "metadata": {},
     "output_type": "execute_result"
    }
   ],
   "source": [
    "#Zip is a command that pairs up multiple lists or tuples to form set of tuples\n",
    "a1 = [0,1,2]\n",
    "b1 = ['a','b','c']\n",
    "c1 = ['x','y','z']\n",
    "zipped = zip(a1,b1,c1)\n",
    "list(zipped)\n"
   ]
  },
  {
   "cell_type": "code",
   "execution_count": 145,
   "metadata": {},
   "outputs": [
    {
     "name": "stdout",
     "output_type": "stream",
     "text": [
      "0:0,a,x\n",
      "1:1,b,y\n",
      "2:2,c,z\n"
     ]
    }
   ],
   "source": [
    "#Method to enumerate tuples in list\n",
    "for i,(a,b,c) in enumerate(zip(a1,b1,c1)):\n",
    "    print('{0}:{1},{2},{3}'.format(i,a,b,c))"
   ]
  },
  {
   "cell_type": "markdown",
   "metadata": {},
   "source": [
    "## TUPLE \n"
   ]
  },
  {
   "cell_type": "code",
   "execution_count": 171,
   "metadata": {},
   "outputs": [],
   "source": [
    "#Creating a tuple - tuple are separated by curved braces\n",
    "x = (1,2,3)\n",
    "y = ('q','w','e')\n"
   ]
  },
  {
   "cell_type": "code",
   "execution_count": 172,
   "metadata": {},
   "outputs": [
    {
     "data": {
      "text/plain": [
       "((1, 2, 3), ('q', 'w', 'e'))"
      ]
     },
     "execution_count": 172,
     "metadata": {},
     "output_type": "execute_result"
    }
   ],
   "source": [
    "#Tuple can be inside a tuple\n",
    "tup1 =(x,y)\n",
    "tup1"
   ]
  },
  {
   "cell_type": "code",
   "execution_count": 173,
   "metadata": {},
   "outputs": [
    {
     "data": {
      "text/plain": [
       "(['a', 'b', 'c'], [4, 5, 6])"
      ]
     },
     "execution_count": 173,
     "metadata": {},
     "output_type": "execute_result"
    }
   ],
   "source": [
    "#lists can be inside Tuple\n",
    "z=['a','b','c']\n",
    "w=[4,5,6]\n",
    "tup2 = (z,w)\n",
    "tup2\n"
   ]
  },
  {
   "cell_type": "code",
   "execution_count": 174,
   "metadata": {},
   "outputs": [
    {
     "name": "stdout",
     "output_type": "stream",
     "text": [
      "['a', 'b', (1, 2, 3)]\n"
     ]
    },
    {
     "data": {
      "text/plain": [
       "(['a', 'b', (1, 2, 3)], [4, ('q', 'w', 'e'), 6])"
      ]
     },
     "execution_count": 174,
     "metadata": {},
     "output_type": "execute_result"
    }
   ],
   "source": [
    "#Tuple is immutable but list inside a tuple can always be modified\n",
    "z[2] = x\n",
    "w[1] = y\n",
    "print(z)\n",
    "tup2"
   ]
  },
  {
   "cell_type": "code",
   "execution_count": 176,
   "metadata": {},
   "outputs": [
    {
     "data": {
      "text/plain": [
       "(['a', 'b', (1, 2, 3)], [4, ('q', 'w', 'e'), 6, 11])"
      ]
     },
     "execution_count": 176,
     "metadata": {},
     "output_type": "execute_result"
    }
   ],
   "source": [
    "tup2[1].append(11)\n",
    "tup2"
   ]
  },
  {
   "cell_type": "code",
   "execution_count": 178,
   "metadata": {},
   "outputs": [
    {
     "data": {
      "text/plain": [
       "((1, 2, 3),\n",
       " ('q', 'w', 'e'),\n",
       " ['a', 'b', (1, 2, 3)],\n",
       " [4, ('q', 'w', 'e'), 6, 11])"
      ]
     },
     "execution_count": 178,
     "metadata": {},
     "output_type": "execute_result"
    }
   ],
   "source": [
    "#Concatenation can be done in tuples & this is not considered modification as the primary source remains unchanged\n",
    "tup3 = tup1 + tup2\n",
    "tup3"
   ]
  },
  {
   "cell_type": "code",
   "execution_count": 179,
   "metadata": {},
   "outputs": [
    {
     "data": {
      "text/plain": [
       "((1, 2, 3), ('q', 'w', 'e'), (1, 2, 3), ('q', 'w', 'e'))"
      ]
     },
     "execution_count": 179,
     "metadata": {},
     "output_type": "execute_result"
    }
   ],
   "source": [
    "#*operator works similar to that of lists in tuple\n",
    "tup1*2"
   ]
  },
  {
   "cell_type": "code",
   "execution_count": 180,
   "metadata": {},
   "outputs": [
    {
     "name": "stdout",
     "output_type": "stream",
     "text": [
      "(1, 2, 3, 4) (5, 6, 7, 8)\n",
      "(5, 6, 7, 8) (1, 2, 3, 4)\n"
     ]
    }
   ],
   "source": [
    "#Basic commands\n",
    "\n",
    "q1 = 1,2,3,4\n",
    "q2 = 5,6,7,8 \n",
    "print (q1,q2)\n",
    "q1,q2 = q2,q1 #swapping can be done easily in Python unlike anyother programming language\n",
    "print(q1,q2)\n"
   ]
  },
  {
   "cell_type": "code",
   "execution_count": 186,
   "metadata": {},
   "outputs": [
    {
     "name": "stdout",
     "output_type": "stream",
     "text": [
      "11 \n",
      " 12 \n",
      " [13, 14, 15, 16, 17, 18]\n"
     ]
    }
   ],
   "source": [
    "seq = 11,12,13,14,15,16,17,18\n",
    "a2,b2,*c2 = seq\n",
    "print(a2,\"\\n\",b2,\"\\n\",c2)"
   ]
  },
  {
   "cell_type": "code",
   "execution_count": 187,
   "metadata": {},
   "outputs": [
    {
     "name": "stdout",
     "output_type": "stream",
     "text": [
      "1 7\n"
     ]
    }
   ],
   "source": [
    "#count() and index()\n",
    "print(seq.count(11),seq.index(18))"
   ]
  },
  {
   "cell_type": "markdown",
   "metadata": {},
   "source": [
    "## Dictionary "
   ]
  },
  {
   "cell_type": "code",
   "execution_count": 7,
   "metadata": {},
   "outputs": [
    {
     "data": {
      "text/plain": [
       "{'animal': 'dog', 'bird': 'parrot', 'vegetable': 'tomato'}"
      ]
     },
     "execution_count": 7,
     "metadata": {},
     "output_type": "execute_result"
    }
   ],
   "source": [
    "# Creating dictionary - dictionary are separated by Flower braces\n",
    "dic = {'animal':'dog','bird':'parrot','vegetable':'tomato'}\n",
    "dic"
   ]
  },
  {
   "cell_type": "code",
   "execution_count": 8,
   "metadata": {},
   "outputs": [
    {
     "data": {
      "text/plain": [
       "{0: 4, 1: 3, 2: 2, 3: 1, 4: 0}"
      ]
     },
     "execution_count": 8,
     "metadata": {},
     "output_type": "execute_result"
    }
   ],
   "source": [
    "#Creating dictionary with dict method\n",
    "\n",
    "dic1 = dict(zip(range(5),reversed(range(5))))\n",
    "dic1"
   ]
  },
  {
   "cell_type": "code",
   "execution_count": 9,
   "metadata": {},
   "outputs": [
    {
     "data": {
      "text/plain": [
       "'dog'"
      ]
     },
     "execution_count": 9,
     "metadata": {},
     "output_type": "execute_result"
    }
   ],
   "source": [
    "#Accessing elements in dictionary\n",
    "dic['animal']"
   ]
  },
  {
   "cell_type": "code",
   "execution_count": 16,
   "metadata": {},
   "outputs": [
    {
     "data": {
      "text/plain": [
       "{'animal': 'wolf', 'bird': 'parrot', 'vegetable': 'tomato'}"
      ]
     },
     "execution_count": 16,
     "metadata": {},
     "output_type": "execute_result"
    }
   ],
   "source": [
    "#changing elements in dictionary\n",
    "dic['animal'] = 'wolf'\n",
    "dic"
   ]
  },
  {
   "cell_type": "code",
   "execution_count": 15,
   "metadata": {},
   "outputs": [
    {
     "data": {
      "text/plain": [
       "dict_keys(['animal', 'bird', 'vegetable'])"
      ]
     },
     "execution_count": 15,
     "metadata": {},
     "output_type": "execute_result"
    }
   ],
   "source": [
    "#Keys() helps in knowing the key words in dictionary for accessing values\n",
    "dic.keys()"
   ]
  },
  {
   "cell_type": "code",
   "execution_count": 14,
   "metadata": {},
   "outputs": [
    {
     "data": {
      "text/plain": [
       "dict_values(['wolf', 'parrot', 'tomato'])"
      ]
     },
     "execution_count": 14,
     "metadata": {},
     "output_type": "execute_result"
    }
   ],
   "source": [
    "#values() helps in knowing the different elements in dictionary\n",
    "dic.values()"
   ]
  },
  {
   "cell_type": "code",
   "execution_count": 17,
   "metadata": {},
   "outputs": [
    {
     "data": {
      "text/plain": [
       "True"
      ]
     },
     "execution_count": 17,
     "metadata": {},
     "output_type": "execute_result"
    }
   ],
   "source": [
    "#'key' in DICTIONARY,'key' not in DICTIONARY- We can verify weather there the respective keys are in dictionary or not\n",
    "'animal' in dic"
   ]
  },
  {
   "cell_type": "code",
   "execution_count": 18,
   "metadata": {},
   "outputs": [
    {
     "data": {
      "text/plain": [
       "False"
      ]
     },
     "execution_count": 18,
     "metadata": {},
     "output_type": "execute_result"
    }
   ],
   "source": [
    "'animal' not in dic"
   ]
  },
  {
   "cell_type": "code",
   "execution_count": 20,
   "metadata": {},
   "outputs": [
    {
     "data": {
      "text/plain": [
       "{'animal': 'wolf',\n",
       " 'bird': 'parrot',\n",
       " 'vegetable': 'tomato',\n",
       " 'river': 'ganga',\n",
       " 'flowers': 'sunflower'}"
      ]
     },
     "execution_count": 20,
     "metadata": {},
     "output_type": "execute_result"
    }
   ],
   "source": [
    "dic['river'] = 'ganga'\n",
    "dic['flowers'] = 'sunflower'\n",
    "dic"
   ]
  },
  {
   "cell_type": "code",
   "execution_count": 21,
   "metadata": {},
   "outputs": [
    {
     "data": {
      "text/plain": [
       "{'a': [1, 2]}"
      ]
     },
     "execution_count": 21,
     "metadata": {},
     "output_type": "execute_result"
    }
   ],
   "source": [
    "#Values in a dictionary can be a list\n",
    "dic2 = {'a':[1,2]}\n",
    "dic2"
   ]
  },
  {
   "cell_type": "code",
   "execution_count": 22,
   "metadata": {},
   "outputs": [
    {
     "ename": "TypeError",
     "evalue": "unhashable type: 'list'",
     "output_type": "error",
     "traceback": [
      "\u001b[1;31m---------------------------------------------------------------------------\u001b[0m",
      "\u001b[1;31mTypeError\u001b[0m                                 Traceback (most recent call last)",
      "\u001b[1;32m<ipython-input-22-c8d535ea0e0d>\u001b[0m in \u001b[0;36m<module>\u001b[1;34m\u001b[0m\n\u001b[0;32m      1\u001b[0m \u001b[1;31m#List cannot be a key in dictionary - hence gives a error\u001b[0m\u001b[1;33m\u001b[0m\u001b[1;33m\u001b[0m\u001b[1;33m\u001b[0m\u001b[0m\n\u001b[1;32m----> 2\u001b[1;33m \u001b[0mdic2\u001b[0m \u001b[1;33m=\u001b[0m \u001b[1;33m{\u001b[0m\u001b[1;33m[\u001b[0m\u001b[1;36m1\u001b[0m\u001b[1;33m,\u001b[0m\u001b[1;36m2\u001b[0m\u001b[1;33m]\u001b[0m\u001b[1;33m:\u001b[0m\u001b[1;34m'a'\u001b[0m\u001b[1;33m}\u001b[0m\u001b[1;33m\u001b[0m\u001b[1;33m\u001b[0m\u001b[0m\n\u001b[0m\u001b[0;32m      3\u001b[0m \u001b[0mdic2\u001b[0m\u001b[1;33m\u001b[0m\u001b[1;33m\u001b[0m\u001b[0m\n",
      "\u001b[1;31mTypeError\u001b[0m: unhashable type: 'list'"
     ]
    }
   ],
   "source": [
    "#Keys in dictionary cannot be a list- hence gives a error\n",
    "dic2 = {[1,2]:'a'}\n",
    "dic2"
   ]
  },
  {
   "cell_type": "code",
   "execution_count": 52,
   "metadata": {},
   "outputs": [
    {
     "data": {
      "text/plain": [
       "{'a': (1, 2, 3)}"
      ]
     },
     "execution_count": 52,
     "metadata": {},
     "output_type": "execute_result"
    }
   ],
   "source": [
    "#Values in dictionary can be a tuple\n",
    "dic2 = {'a':(1,2,3)}\n",
    "dic2"
   ]
  },
  {
   "cell_type": "code",
   "execution_count": 53,
   "metadata": {},
   "outputs": [
    {
     "data": {
      "text/plain": [
       "{(8, 9): 1}"
      ]
     },
     "execution_count": 53,
     "metadata": {},
     "output_type": "execute_result"
    }
   ],
   "source": [
    "#Keys in dictionary can be a tuple, unlike list\n",
    "dic2 ={(8,9):1}\n",
    "dic2"
   ]
  },
  {
   "cell_type": "markdown",
   "metadata": {},
   "source": [
    "## Dictionary methods : \n",
    "del, clear, copy, fromkeys,get,items,keys, pop, popitem,setdefault,update,values"
   ]
  },
  {
   "cell_type": "code",
   "execution_count": 54,
   "metadata": {},
   "outputs": [
    {
     "data": {
      "text/plain": [
       "{'animal': 'wolf',\n",
       " 'bird': 'parrot',\n",
       " 'vegetable': 'tomato',\n",
       " 'flowers': 'sunflower'}"
      ]
     },
     "execution_count": 54,
     "metadata": {},
     "output_type": "execute_result"
    }
   ],
   "source": [
    "dic"
   ]
  },
  {
   "cell_type": "code",
   "execution_count": 55,
   "metadata": {},
   "outputs": [
    {
     "ename": "KeyError",
     "evalue": "'river'",
     "output_type": "error",
     "traceback": [
      "\u001b[1;31m---------------------------------------------------------------------------\u001b[0m",
      "\u001b[1;31mKeyError\u001b[0m                                  Traceback (most recent call last)",
      "\u001b[1;32m<ipython-input-55-6a25cc86d5fd>\u001b[0m in \u001b[0;36m<module>\u001b[1;34m\u001b[0m\n\u001b[0;32m      1\u001b[0m \u001b[1;31m# del - is used to delete the key and the values associated with it in a dictionary\u001b[0m\u001b[1;33m\u001b[0m\u001b[1;33m\u001b[0m\u001b[1;33m\u001b[0m\u001b[0m\n\u001b[1;32m----> 2\u001b[1;33m \u001b[1;32mdel\u001b[0m \u001b[0mdic\u001b[0m\u001b[1;33m[\u001b[0m\u001b[1;34m'river'\u001b[0m\u001b[1;33m]\u001b[0m\u001b[1;33m\u001b[0m\u001b[1;33m\u001b[0m\u001b[0m\n\u001b[0m\u001b[0;32m      3\u001b[0m \u001b[0mdic\u001b[0m\u001b[1;33m\u001b[0m\u001b[1;33m\u001b[0m\u001b[0m\n",
      "\u001b[1;31mKeyError\u001b[0m: 'river'"
     ]
    }
   ],
   "source": [
    "# del - is used to delete the key and the values associated with it in a dictionary\n",
    "del dic['river']\n",
    "dic"
   ]
  },
  {
   "cell_type": "code",
   "execution_count": 56,
   "metadata": {},
   "outputs": [
    {
     "data": {
      "text/plain": [
       "{'animal': 'wolf',\n",
       " 'bird': 'parrot',\n",
       " 'vegetable': 'tomato',\n",
       " 'flowers': 'sunflower'}"
      ]
     },
     "execution_count": 56,
     "metadata": {},
     "output_type": "execute_result"
    }
   ],
   "source": [
    "dic1"
   ]
  },
  {
   "cell_type": "code",
   "execution_count": 57,
   "metadata": {},
   "outputs": [
    {
     "data": {
      "text/plain": [
       "{}"
      ]
     },
     "execution_count": 57,
     "metadata": {},
     "output_type": "execute_result"
    }
   ],
   "source": [
    "#Clear - deletes all the elements inside the dictionary\n",
    "dic1.clear()\n",
    "dic1"
   ]
  },
  {
   "cell_type": "code",
   "execution_count": 58,
   "metadata": {},
   "outputs": [
    {
     "data": {
      "text/plain": [
       "{'animal': 'wolf',\n",
       " 'bird': 'parrot',\n",
       " 'vegetable': 'tomato',\n",
       " 'flowers': 'sunflower'}"
      ]
     },
     "execution_count": 58,
     "metadata": {},
     "output_type": "execute_result"
    }
   ],
   "source": [
    "# copy() is used to clone the dictionary\n",
    "dic1 = dic.copy()\n",
    "dic1"
   ]
  },
  {
   "cell_type": "code",
   "execution_count": 78,
   "metadata": {},
   "outputs": [
    {
     "data": {
      "text/plain": [
       "{'animal': 'wolf',\n",
       " 'bird': 'parrot',\n",
       " 'vegetable': 'tomato',\n",
       " 'flowers': 'sunflower',\n",
       " 'f': [1],\n",
       " 'insects': [1, 'cockroach']}"
      ]
     },
     "execution_count": 78,
     "metadata": {},
     "output_type": "execute_result"
    }
   ],
   "source": [
    "#dic1['insects'] = [1]\n",
    "dic1['insects'].append('cockroach')\n",
    "dic1"
   ]
  },
  {
   "cell_type": "code",
   "execution_count": 75,
   "metadata": {},
   "outputs": [
    {
     "data": {
      "text/plain": [
       "{1: None,\n",
       " 2: None,\n",
       " 3: None,\n",
       " 4: None,\n",
       " 5: None,\n",
       " 6: None,\n",
       " 7: None,\n",
       " 8: None,\n",
       " 9: None}"
      ]
     },
     "execution_count": 75,
     "metadata": {},
     "output_type": "execute_result"
    }
   ],
   "source": [
    "#dictionary.fromkeys(sequence,value)- \n",
    "# creates new dictionary with the given sequence of elements as the keys of the dictionary.\n",
    "# if value is given, each new element is associated with the given value\n",
    "numbers = {1,2,3,4,5,6,7,8,9}\n",
    "test = dict.fromkeys(numbers)\n",
    "test"
   ]
  },
  {
   "cell_type": "code",
   "execution_count": 82,
   "metadata": {},
   "outputs": [
    {
     "data": {
      "text/plain": [
       "{1: ['a'],\n",
       " 2: ['a'],\n",
       " 3: ['a'],\n",
       " 4: ['a'],\n",
       " 5: ['a'],\n",
       " 6: ['a'],\n",
       " 7: ['a'],\n",
       " 8: ['a'],\n",
       " 9: ['a']}"
      ]
     },
     "execution_count": 82,
     "metadata": {},
     "output_type": "execute_result"
    }
   ],
   "source": [
    "value = ['a']\n",
    "test = dict.fromkeys(numbers,value)\n",
    "test"
   ]
  },
  {
   "cell_type": "code",
   "execution_count": 83,
   "metadata": {},
   "outputs": [
    {
     "data": {
      "text/plain": [
       "{1: ['a', 'b'],\n",
       " 2: ['a', 'b'],\n",
       " 3: ['a', 'b'],\n",
       " 4: ['a', 'b'],\n",
       " 5: ['a', 'b'],\n",
       " 6: ['a', 'b'],\n",
       " 7: ['a', 'b'],\n",
       " 8: ['a', 'b'],\n",
       " 9: ['a', 'b']}"
      ]
     },
     "execution_count": 83,
     "metadata": {},
     "output_type": "execute_result"
    }
   ],
   "source": [
    "#Since we used fromkeys to generate the dictionary change in one cell results in change of all the cells\n",
    "test[1].append('b')\n",
    "test"
   ]
  },
  {
   "cell_type": "code",
   "execution_count": 86,
   "metadata": {},
   "outputs": [
    {
     "data": {
      "text/plain": [
       "'absent'"
      ]
     },
     "execution_count": 86,
     "metadata": {},
     "output_type": "execute_result"
    }
   ],
   "source": [
    "#get- it is used to check if key is present in dictionary or not, if its not, you can set some value as default(optional)\n",
    "test.get(10,'absent') #I put absent 'as it is convenient to know if the key is present or absent"
   ]
  },
  {
   "cell_type": "code",
   "execution_count": 90,
   "metadata": {},
   "outputs": [
    {
     "name": "stdout",
     "output_type": "stream",
     "text": [
      "{'animal': 'wolf', 'bird': 'parrot', 'vegetable': 'tomato', 'flowers': 'sunflower'}\n"
     ]
    },
    {
     "data": {
      "text/plain": [
       "{'animal': 'wolf',\n",
       " 'bird': 'parrot',\n",
       " 'vegetable': 'tomato',\n",
       " 'flowers': 'sunflower',\n",
       " 'game': 'cricket',\n",
       " 'Tools': 'spanner',\n",
       " 'Language': 'english'}"
      ]
     },
     "execution_count": 90,
     "metadata": {},
     "output_type": "execute_result"
    }
   ],
   "source": [
    "#Update - is a command is used to  merge/insert/update one dictionary to another\n",
    "#if in case an existing key value is passed, old value will be discarded\n",
    "print(dic)\n",
    "test1 = {'game': 'cricket', 'Tools':'spanner', 'Language':'english'}\n",
    "dic.update(test1)\n",
    "dic"
   ]
  },
  {
   "cell_type": "code",
   "execution_count": 91,
   "metadata": {},
   "outputs": [
    {
     "data": {
      "text/plain": [
       "{'bird': 'parrot',\n",
       " 'vegetable': 'tomato',\n",
       " 'flowers': 'sunflower',\n",
       " 'game': 'cricket',\n",
       " 'Tools': 'spanner',\n",
       " 'Language': 'english'}"
      ]
     },
     "execution_count": 91,
     "metadata": {},
     "output_type": "execute_result"
    }
   ],
   "source": [
    "# pop- it discards the selected key from dictionary\n",
    "dic.pop('animal') #animal will be eliminated from the dictionary\n",
    "dic"
   ]
  },
  {
   "cell_type": "code",
   "execution_count": 92,
   "metadata": {},
   "outputs": [
    {
     "data": {
      "text/plain": [
       "('Language', 'english')"
      ]
     },
     "execution_count": 92,
     "metadata": {},
     "output_type": "execute_result"
    }
   ],
   "source": [
    "# popitem(): pops the last pair(key:value) and shows the key value which has been taken out.\n",
    "popped = dic.popitem()\n",
    "popped"
   ]
  },
  {
   "cell_type": "code",
   "execution_count": 93,
   "metadata": {},
   "outputs": [
    {
     "data": {
      "text/plain": [
       "dict_items([('bird', 'parrot'), ('vegetable', 'tomato'), ('flowers', 'sunflower'), ('game', 'cricket'), ('Tools', 'spanner')])"
      ]
     },
     "execution_count": 93,
     "metadata": {},
     "output_type": "execute_result"
    }
   ],
   "source": [
    "#items() - it returns a view object that displays a list of a given dictionary's (key, value) tuple pair.\n",
    "dic.items()"
   ]
  },
  {
   "cell_type": "code",
   "execution_count": 94,
   "metadata": {},
   "outputs": [
    {
     "data": {
      "text/plain": [
       "'parrot'"
      ]
     },
     "execution_count": 94,
     "metadata": {},
     "output_type": "execute_result"
    }
   ],
   "source": [
    "#setdefault(key[, defaultValue]) returns the value of a key (if the key is in dictionary). \n",
    "#If not, it inserts key with the default value  into the dictionary.\n",
    "dic.setdefault('bird',10) \n",
    "#though default value 10, sAs the dictionary has a value associated with the key-it doesnot change the previous value"
   ]
  },
  {
   "cell_type": "code",
   "execution_count": 96,
   "metadata": {},
   "outputs": [
    {
     "name": "stdout",
     "output_type": "stream",
     "text": [
      "{'bird': 'parrot', 'vegetable': 'tomato', 'flowers': 'sunflower', 'game': 'cricket', 'Tools': 'spanner', 'language': 'english'}\n"
     ]
    }
   ],
   "source": [
    "dic.setdefault('language','english') \n",
    "print(dic) #it will add the pair into the dictionary as it was not present in the dictionary"
   ]
  },
  {
   "cell_type": "code",
   "execution_count": 97,
   "metadata": {},
   "outputs": [
    {
     "data": {
      "text/plain": [
       "{'bird': 'parrot',\n",
       " 'vegetable': 'tomato',\n",
       " 'flowers': 'rose',\n",
       " 'game': 'cricket',\n",
       " 'Tools': 'spanner',\n",
       " 'language': 'english'}"
      ]
     },
     "execution_count": 97,
     "metadata": {},
     "output_type": "execute_result"
    }
   ],
   "source": [
    "#we can also update the dictionary directly \n",
    "dic['flowers'] = 'rose'\n",
    "dic"
   ]
  },
  {
   "cell_type": "markdown",
   "metadata": {},
   "source": [
    "# Set\n",
    "##### An unordered collection of unique elements. Its like dictionary but no values "
   ]
  },
  {
   "cell_type": "code",
   "execution_count": 99,
   "metadata": {},
   "outputs": [
    {
     "data": {
      "text/plain": [
       "{1, 2, 3, 4, 5, 6, 7, 8, 9}"
      ]
     },
     "execution_count": 99,
     "metadata": {},
     "output_type": "execute_result"
    }
   ],
   "source": [
    "#sets can be created by 2 ways : 1) set function 2) elements in curly braces{}\n",
    "set1 = set([1,2,2,3,4,2,5,6,7,5,6,7,8,8,8,9])\n",
    "set1"
   ]
  },
  {
   "cell_type": "code",
   "execution_count": 101,
   "metadata": {},
   "outputs": [
    {
     "data": {
      "text/plain": [
       "{1, 2, 3, 5, 6, 7, 34, 56, 67, 212, 566, 567, 85675}"
      ]
     },
     "execution_count": 101,
     "metadata": {},
     "output_type": "execute_result"
    }
   ],
   "source": [
    "set2 = {1,2,212,1,3,34,5,566,5,6,85675,67,56,7,567,56,7,56,7}\n",
    "set2"
   ]
  },
  {
   "cell_type": "markdown",
   "metadata": {},
   "source": [
    "###### Set support's mathematical set operations like union, intersection, difference and symmetrical difference"
   ]
  },
  {
   "cell_type": "code",
   "execution_count": 102,
   "metadata": {},
   "outputs": [
    {
     "data": {
      "text/plain": [
       "{1, 2, 3, 4, 5, 6, 7, 8, 9, 34, 56, 67, 212, 566, 567, 85675}"
      ]
     },
     "execution_count": 102,
     "metadata": {},
     "output_type": "execute_result"
    }
   ],
   "source": [
    "# union operation\n",
    "set1.union(set2)"
   ]
  },
  {
   "cell_type": "code",
   "execution_count": 103,
   "metadata": {},
   "outputs": [
    {
     "data": {
      "text/plain": [
       "{1, 2, 3, 4, 5, 6, 7, 8, 9, 34, 56, 67, 212, 566, 567, 85675}"
      ]
     },
     "execution_count": 103,
     "metadata": {},
     "output_type": "execute_result"
    }
   ],
   "source": [
    "# union use pipe operator \n",
    "set1 | set2\n"
   ]
  },
  {
   "cell_type": "code",
   "execution_count": 105,
   "metadata": {},
   "outputs": [
    {
     "data": {
      "text/plain": [
       "{1, 2, 3, 4, 5}"
      ]
     },
     "execution_count": 105,
     "metadata": {},
     "output_type": "execute_result"
    }
   ],
   "source": [
    "a = set([1,1,2,3])\n",
    "b = set([2,2,3,4,5,5])\n",
    "a |=b  # a|=b => a = a|b used to directly save the result into set\n",
    "a"
   ]
  },
  {
   "cell_type": "code",
   "execution_count": 106,
   "metadata": {},
   "outputs": [
    {
     "name": "stdout",
     "output_type": "stream",
     "text": [
      "{1, 2, 3, 4, 5} {2, 3, 4, 5}\n"
     ]
    }
   ],
   "source": [
    "print(a,b)"
   ]
  },
  {
   "cell_type": "code",
   "execution_count": 108,
   "metadata": {},
   "outputs": [
    {
     "name": "stdout",
     "output_type": "stream",
     "text": [
      "{1, 2, 3, 4, 5, 6, 7, 8, 9} {1, 2, 3, 34, 5, 6, 67, 7, 85675, 212, 566, 567, 56}\n"
     ]
    },
    {
     "data": {
      "text/plain": [
       "{1, 2, 3, 5, 6, 7}"
      ]
     },
     "execution_count": 108,
     "metadata": {},
     "output_type": "execute_result"
    }
   ],
   "source": [
    "# intersection is done by 2 ways intersection keyword and & operator.\n",
    "print(set1,set2)\n",
    "set1.intersection(set2)"
   ]
  },
  {
   "cell_type": "code",
   "execution_count": 109,
   "metadata": {},
   "outputs": [
    {
     "name": "stdout",
     "output_type": "stream",
     "text": [
      "{1, 2, 3, 4, 5, 6, 7, 8, 9} {1, 2, 3, 34, 5, 6, 67, 7, 85675, 212, 566, 567, 56}\n"
     ]
    },
    {
     "data": {
      "text/plain": [
       "{1, 2, 3, 5, 6, 7}"
      ]
     },
     "execution_count": 109,
     "metadata": {},
     "output_type": "execute_result"
    }
   ],
   "source": [
    "#intersection : &\n",
    "print(set1,set2)\n",
    "set1 &= set2\n",
    "set1"
   ]
  },
  {
   "cell_type": "markdown",
   "metadata": {},
   "source": [
    "# set methods\n",
    "###### add,clear,copy,difference,difference_update,discard,intersection,intersection_update,isdisjoint,issubset\n"
   ]
  },
  {
   "cell_type": "code",
   "execution_count": 110,
   "metadata": {},
   "outputs": [
    {
     "data": {
      "text/plain": [
       "{1, 2, 3, 5, 6, 7, 21}"
      ]
     },
     "execution_count": 110,
     "metadata": {},
     "output_type": "execute_result"
    }
   ],
   "source": [
    "#add(element)\n",
    "set1.add(21)\n",
    "set1"
   ]
  },
  {
   "cell_type": "code",
   "execution_count": 111,
   "metadata": {},
   "outputs": [
    {
     "data": {
      "text/plain": [
       "{1, 2, 3, 5, 6, 7, 21}"
      ]
     },
     "execution_count": 111,
     "metadata": {},
     "output_type": "execute_result"
    }
   ],
   "source": [
    "#copy- is used to clone the set \n",
    "c = set1.copy()\n",
    "c"
   ]
  },
  {
   "cell_type": "code",
   "execution_count": 112,
   "metadata": {},
   "outputs": [
    {
     "data": {
      "text/plain": [
       "set()"
      ]
     },
     "execution_count": 112,
     "metadata": {},
     "output_type": "execute_result"
    }
   ],
   "source": [
    "c.clear()\n",
    "c"
   ]
  },
  {
   "cell_type": "code",
   "execution_count": 113,
   "metadata": {},
   "outputs": [
    {
     "name": "stdout",
     "output_type": "stream",
     "text": [
      "{1, 2, 3, 5, 6, 7, 21}\n"
     ]
    },
    {
     "data": {
      "text/plain": [
       "{1, 2, 5, 6, 7, 21}"
      ]
     },
     "execution_count": 113,
     "metadata": {},
     "output_type": "execute_result"
    }
   ],
   "source": [
    "# remove(x) - it is used to remove element from the set\n",
    "c = set1.copy()\n",
    "print(c)\n",
    "c.remove(3)\n",
    "c"
   ]
  },
  {
   "cell_type": "code",
   "execution_count": 114,
   "metadata": {},
   "outputs": [
    {
     "data": {
      "text/plain": [
       "{2, 5, 6, 7, 21}"
      ]
     },
     "execution_count": 114,
     "metadata": {},
     "output_type": "execute_result"
    }
   ],
   "source": [
    "# pop-it removes element from first position.\n",
    "c.pop()\n",
    "c"
   ]
  },
  {
   "cell_type": "code",
   "execution_count": 115,
   "metadata": {},
   "outputs": [
    {
     "data": {
      "text/plain": [
       "{1, 2, 3, 5, 6, 7, 21, 34, 56, 67, 212, 566, 567, 85675}"
      ]
     },
     "execution_count": 115,
     "metadata": {},
     "output_type": "execute_result"
    }
   ],
   "source": [
    "# update method\n",
    "set1.update(set2)\n",
    "set1"
   ]
  },
  {
   "cell_type": "code",
   "execution_count": 116,
   "metadata": {},
   "outputs": [
    {
     "data": {
      "text/plain": [
       "{1, 2, 3, 5, 6, 7, 34, 56, 67, 212, 566, 567, 85675}"
      ]
     },
     "execution_count": 116,
     "metadata": {},
     "output_type": "execute_result"
    }
   ],
   "source": [
    "# intersection_update method\n",
    "set1.intersection_update(set2) # a &=b\n",
    "set1"
   ]
  },
  {
   "cell_type": "code",
   "execution_count": 118,
   "metadata": {},
   "outputs": [
    {
     "name": "stdout",
     "output_type": "stream",
     "text": [
      "{1, 2, 3, 4, 5, 6, 7, 8, 9} {1, 2, 3, 34, 5, 6, 67, 7, 85675, 212, 566, 567, 56}\n"
     ]
    },
    {
     "data": {
      "text/plain": [
       "{4, 8, 9}"
      ]
     },
     "execution_count": 118,
     "metadata": {},
     "output_type": "execute_result"
    }
   ],
   "source": [
    "set1 = {1, 2, 3, 4, 5, 6, 7, 8, 9}\n",
    "print(set1,set2)\n",
    "set1-set2\n"
   ]
  },
  {
   "cell_type": "code",
   "execution_count": 119,
   "metadata": {},
   "outputs": [
    {
     "data": {
      "text/plain": [
       "{4, 8, 9}"
      ]
     },
     "execution_count": 119,
     "metadata": {},
     "output_type": "execute_result"
    }
   ],
   "source": [
    "set1.difference(set2)"
   ]
  },
  {
   "cell_type": "code",
   "execution_count": 120,
   "metadata": {},
   "outputs": [
    {
     "name": "stdout",
     "output_type": "stream",
     "text": [
      "{1, 2, 3, 4, 5, 6, 7, 8, 9} {1, 2, 3, 34, 5, 6, 67, 7, 85675, 212, 566, 567, 56}\n"
     ]
    }
   ],
   "source": [
    "print(set1,set2)\n",
    "set1.difference_update(set2) # a = a-b => a -= b"
   ]
  },
  {
   "cell_type": "code",
   "execution_count": 122,
   "metadata": {},
   "outputs": [
    {
     "name": "stdout",
     "output_type": "stream",
     "text": [
      "{1, 2, 3, 4, 5, 6, 7, 8, 9} {1, 2, 3, 34, 5, 6, 67, 7, 85675, 212, 566, 567, 56}\n"
     ]
    },
    {
     "data": {
      "text/plain": [
       "{4, 8, 9, 34, 56, 67, 212, 566, 567, 85675}"
      ]
     },
     "execution_count": 122,
     "metadata": {},
     "output_type": "execute_result"
    }
   ],
   "source": [
    "# symmetric difference = a^b => all the elements in either a or b but not in both\n",
    "set1 = {1, 2, 3, 4, 5, 6, 7, 8, 9}\n",
    "print(set1,set2)\n",
    "set1^set2"
   ]
  },
  {
   "cell_type": "code",
   "execution_count": 124,
   "metadata": {},
   "outputs": [
    {
     "name": "stdout",
     "output_type": "stream",
     "text": [
      "{1, 2, 3, 4, 5, 6, 7, 8, 9} {1, 2, 3, 34, 5, 6, 67, 7, 85675, 212, 566, 567, 56}\n"
     ]
    },
    {
     "data": {
      "text/plain": [
       "{4, 8, 9, 34, 56, 67, 212, 566, 567, 85675}"
      ]
     },
     "execution_count": 124,
     "metadata": {},
     "output_type": "execute_result"
    }
   ],
   "source": [
    "set1 = {1, 2, 3, 4, 5, 6, 7, 8, 9}\n",
    "print(set1,set2)\n",
    "set1.symmetric_difference(set2) # a^b"
   ]
  },
  {
   "cell_type": "code",
   "execution_count": 125,
   "metadata": {},
   "outputs": [
    {
     "data": {
      "text/plain": [
       "{(1, 2, 3, 4)}"
      ]
     },
     "execution_count": 125,
     "metadata": {},
     "output_type": "execute_result"
    }
   ],
   "source": [
    "my_data = [1,2,3,4]\n",
    "my_set = {tuple(my_data)}\n",
    "my_set"
   ]
  },
  {
   "cell_type": "code",
   "execution_count": 126,
   "metadata": {},
   "outputs": [
    {
     "data": {
      "text/plain": [
       "True"
      ]
     },
     "execution_count": 126,
     "metadata": {},
     "output_type": "execute_result"
    }
   ],
   "source": [
    "set1 = set([1,2,2,3,4,2,5,6,7,5,6,7,8,8,8,9])\n",
    "set2 = {1,2,212,1,3,34,5,566,5,6,85675,67,56,7,567,56,7,56,7}\n",
    "{1,2,3}.issubset(set1)"
   ]
  },
  {
   "cell_type": "code",
   "execution_count": 127,
   "metadata": {},
   "outputs": [
    {
     "data": {
      "text/plain": [
       "False"
      ]
     },
     "execution_count": 127,
     "metadata": {},
     "output_type": "execute_result"
    }
   ],
   "source": [
    "set2.issuperset({1,2,112})"
   ]
  },
  {
   "cell_type": "code",
   "execution_count": 128,
   "metadata": {},
   "outputs": [
    {
     "data": {
      "text/plain": [
       "False"
      ]
     },
     "execution_count": 128,
     "metadata": {},
     "output_type": "execute_result"
    }
   ],
   "source": [
    "# if both sets does not have common element returns True else False\n",
    "set1.isdisjoint(set2)"
   ]
  },
  {
   "cell_type": "code",
   "execution_count": 129,
   "metadata": {},
   "outputs": [
    {
     "data": {
      "text/plain": [
       "True"
      ]
     },
     "execution_count": 129,
     "metadata": {},
     "output_type": "execute_result"
    }
   ],
   "source": [
    "{1,2}.isdisjoint({3,4})"
   ]
  },
  {
   "cell_type": "code",
   "execution_count": 130,
   "metadata": {},
   "outputs": [
    {
     "data": {
      "text/plain": [
       "True"
      ]
     },
     "execution_count": 130,
     "metadata": {},
     "output_type": "execute_result"
    }
   ],
   "source": [
    "# sets are equal if and only if their contents are equal:\n",
    "{1,2,3} == {1,2,3}"
   ]
  },
  {
   "cell_type": "code",
   "execution_count": 131,
   "metadata": {},
   "outputs": [
    {
     "data": {
      "text/plain": [
       "False"
      ]
     },
     "execution_count": 131,
     "metadata": {},
     "output_type": "execute_result"
    }
   ],
   "source": [
    "set1 == set2"
   ]
  },
  {
   "cell_type": "code",
   "execution_count": null,
   "metadata": {},
   "outputs": [],
   "source": []
  }
 ],
 "metadata": {
  "kernelspec": {
   "display_name": "Python 3",
   "language": "python",
   "name": "python3"
  },
  "language_info": {
   "codemirror_mode": {
    "name": "ipython",
    "version": 3
   },
   "file_extension": ".py",
   "mimetype": "text/x-python",
   "name": "python",
   "nbconvert_exporter": "python",
   "pygments_lexer": "ipython3",
   "version": "3.7.3"
  }
 },
 "nbformat": 4,
 "nbformat_minor": 2
}
