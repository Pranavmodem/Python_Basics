{
 "cells": [
  {
   "cell_type": "markdown",
   "metadata": {},
   "source": [
    "## LIST & Its methods"
   ]
  },
  {
   "cell_type": "code",
   "execution_count": 1,
   "metadata": {},
   "outputs": [
    {
     "name": "stdout",
     "output_type": "stream",
     "text": [
      "[1, 2, 3, 4, 5] ['a', 'b', 'c', 'd', 'e']\n",
      "list\n"
     ]
    }
   ],
   "source": [
    "#Creating list in a regular way\n",
    "lista = [1,2,3,4,5]\n",
    "listb = ['a','b','c','d','e']\n",
    "print (lista,listb)\n",
    "print('list')\n"
   ]
  },
  {
   "cell_type": "code",
   "execution_count": 76,
   "metadata": {},
   "outputs": [
    {
     "name": "stdout",
     "output_type": "stream",
     "text": [
      "[0, 5, 10, 15] [0, 1, 2, 3, 4, 5, 6, 7]\n"
     ]
    }
   ],
   "source": [
    "#Creating List using Range(start,stop,step)\n",
    "listc = list(range(0,20,5))\n",
    "listd = list(range(8))\n",
    "print (listc,listd)"
   ]
  },
  {
   "cell_type": "code",
   "execution_count": 77,
   "metadata": {},
   "outputs": [
    {
     "name": "stdout",
     "output_type": "stream",
     "text": [
      "([1, 2, 3, 4, 5], ['a', 'b', 'c', 'd', 'e'], [0, 5, 10, 15])\n",
      "[[1, 2, 3, 4, 5], ['a', 'b', 'c', 'd', 'e'], [0, 5, 10, 15]] \n",
      " [1, ([1, 2, 3, 4, 5], ['a', 'b', 'c', 'd', 'e'], [0, 5, 10, 15])]\n"
     ]
    }
   ],
   "source": [
    "#list can be added to tuples and tuple can be added to files\n",
    "tup = (lista,listb,listc)\n",
    "print (tup)\n",
    "list1 = list(tup)\n",
    "list2 = [1,tup]\n",
    "print (list1,\"\\n\",list2)"
   ]
  },
  {
   "cell_type": "markdown",
   "metadata": {},
   "source": [
    "## Types of Methods in List \n",
    "append()\n",
    "clear()\n",
    "copy()\n",
    "count()\n",
    "extend()\n",
    "index()\n",
    "insert()\n",
    "pop()\n",
    "remove()\n",
    "reverse()\n",
    "sort()"
   ]
  },
  {
   "cell_type": "code",
   "execution_count": 78,
   "metadata": {},
   "outputs": [
    {
     "data": {
      "text/plain": [
       "[1, 2, 3, 4, 5, 6]"
      ]
     },
     "execution_count": 78,
     "metadata": {},
     "output_type": "execute_result"
    }
   ],
   "source": [
    "#append() adds input at the end\n",
    "lista.append(6)\n",
    "lista"
   ]
  },
  {
   "cell_type": "code",
   "execution_count": 79,
   "metadata": {},
   "outputs": [
    {
     "data": {
      "text/plain": [
       "['a', 'b', 'c', 'd', 'e', [1, 2, 3, 4, 5, 6]]"
      ]
     },
     "execution_count": 79,
     "metadata": {},
     "output_type": "execute_result"
    }
   ],
   "source": [
    "#append can be used to add list or tuple into targeted list\n",
    "listb.append(lista)\n",
    "listb"
   ]
  },
  {
   "cell_type": "code",
   "execution_count": 80,
   "metadata": {},
   "outputs": [
    {
     "data": {
      "text/plain": [
       "[]"
      ]
     },
     "execution_count": 80,
     "metadata": {},
     "output_type": "execute_result"
    }
   ],
   "source": [
    "#Clear() is used to Delete all the elements in the list\n",
    "listb.clear()\n",
    "listb"
   ]
  },
  {
   "cell_type": "code",
   "execution_count": 81,
   "metadata": {},
   "outputs": [
    {
     "data": {
      "text/plain": [
       "[1, 2, 3, 4, 5, 6]"
      ]
     },
     "execution_count": 81,
     "metadata": {},
     "output_type": "execute_result"
    }
   ],
   "source": [
    "#Copy() is used for Copying the elements in one list to another list\n",
    "listb = lista.copy()\n",
    "listb"
   ]
  },
  {
   "cell_type": "code",
   "execution_count": 82,
   "metadata": {},
   "outputs": [
    {
     "data": {
      "text/plain": [
       "1"
      ]
     },
     "execution_count": 82,
     "metadata": {},
     "output_type": "execute_result"
    }
   ],
   "source": [
    "#Counts the occurence of element in the targeted list\n",
    "listb.count(5)"
   ]
  },
  {
   "cell_type": "code",
   "execution_count": 83,
   "metadata": {},
   "outputs": [
    {
     "data": {
      "text/plain": [
       "[1, 2, 3, 4, 5, 6, 7]"
      ]
     },
     "execution_count": 83,
     "metadata": {},
     "output_type": "execute_result"
    }
   ],
   "source": [
    "#insert(position,value) adds an element in the desired position in a list\n",
    "listb.insert(6,7)\n",
    "listb"
   ]
  },
  {
   "cell_type": "code",
   "execution_count": 84,
   "metadata": {},
   "outputs": [
    {
     "data": {
      "text/plain": [
       "[1, 2, 3, 4, 5, 6, 7, 6, 7, 8, 9]"
      ]
     },
     "execution_count": 84,
     "metadata": {},
     "output_type": "execute_result"
    }
   ],
   "source": [
    "#Extend() is a similar to append \"adding elements to the list at last position\", \n",
    "# but extend is significantly faster to that of append()\n",
    "listb.extend([6,7,8,9])\n",
    "listb\n"
   ]
  },
  {
   "cell_type": "code",
   "execution_count": 85,
   "metadata": {},
   "outputs": [
    {
     "name": "stdout",
     "output_type": "stream",
     "text": [
      "[1, 2, 3, 4, 5, 6, 7, 6, 7, 8, 9]\n"
     ]
    },
    {
     "data": {
      "text/plain": [
       "9"
      ]
     },
     "execution_count": 85,
     "metadata": {},
     "output_type": "execute_result"
    }
   ],
   "source": [
    "#index() provides us with the position of element,\n",
    "#(if multiple occurence of elements, it gives the position of first occurence)\n",
    "print (listb)\n",
    "listb.index(8)\n"
   ]
  },
  {
   "cell_type": "code",
   "execution_count": 86,
   "metadata": {},
   "outputs": [
    {
     "data": {
      "text/plain": [
       "[1, 2, 3, 4, 5, 6, 7, 6, 7, 8]"
      ]
     },
     "execution_count": 86,
     "metadata": {},
     "output_type": "execute_result"
    }
   ],
   "source": [
    "#pop() removes the last element in the list\n",
    "listb.pop()\n",
    "listb\n",
    "\n"
   ]
  },
  {
   "cell_type": "code",
   "execution_count": 87,
   "metadata": {},
   "outputs": [
    {
     "data": {
      "text/plain": [
       "[1, 2, 3, 4, 5, 7, 6, 7, 8]"
      ]
     },
     "execution_count": 87,
     "metadata": {},
     "output_type": "execute_result"
    }
   ],
   "source": [
    "#remove() deletes the first occurence of the selected element\n",
    "listb.remove(6)\n",
    "listb"
   ]
  },
  {
   "cell_type": "code",
   "execution_count": 90,
   "metadata": {},
   "outputs": [
    {
     "name": "stdout",
     "output_type": "stream",
     "text": [
      "[1, 2, 3, 4, 5, 7, 6, 7, 8]\n"
     ]
    },
    {
     "data": {
      "text/plain": [
       "[8, 7, 6, 7, 5, 4, 3, 2, 1]"
      ]
     },
     "execution_count": 90,
     "metadata": {},
     "output_type": "execute_result"
    }
   ],
   "source": [
    "#reverse() Will reverse the order of elements in list\n",
    "print(listb)\n",
    "listb.reverse()\n",
    "listb"
   ]
  },
  {
   "cell_type": "code",
   "execution_count": 91,
   "metadata": {},
   "outputs": [
    {
     "data": {
      "text/plain": [
       "[1, 2, 3, 4, 5, 6, 7, 7, 8]"
      ]
     },
     "execution_count": 91,
     "metadata": {},
     "output_type": "execute_result"
    }
   ],
   "source": [
    "#sort(Key= , Reverse =) \n",
    "#key - function that serves as a key for the sort comparison. (example: key=len, sorts based on length of string)\n",
    "#reverse - If True, the sorted list is reversed (or sorted in Descending order). \n",
    "# By default Reverse = false and list is sorted in ascending order\n",
    "listb.sort() #Output is Ascending order\n",
    "listb\n"
   ]
  },
  {
   "cell_type": "code",
   "execution_count": 93,
   "metadata": {},
   "outputs": [
    {
     "name": "stdout",
     "output_type": "stream",
     "text": [
      "[1, 2, 3, 4, 5, 6, 7, 7, 8]\n"
     ]
    },
    {
     "data": {
      "text/plain": [
       "[8, 7, 7, 6, 5, 4, 3, 2, 1]"
      ]
     },
     "execution_count": 93,
     "metadata": {},
     "output_type": "execute_result"
    }
   ],
   "source": [
    "#Descending order\n",
    "print (listb)\n",
    "listb.sort(reverse=True) \n",
    "listb"
   ]
  },
  {
   "cell_type": "code",
   "execution_count": 96,
   "metadata": {},
   "outputs": [
    {
     "name": "stdout",
     "output_type": "stream",
     "text": [
      "['a', 'bc', 'defg', 'hij', 'klmno', 'pqrstuv', 'wxyz']\n",
      "Ascending order ['a', 'bc', 'hij', 'defg', 'wxyz', 'klmno', 'pqrstuv']\n",
      "descending order ['pqrstuv', 'klmno', 'defg', 'wxyz', 'hij', 'bc', 'a']\n"
     ]
    }
   ],
   "source": [
    "#For strings we have to use \"key=len\" for sorting the list based on string length\n",
    "alphalist = ['a', 'bc', 'defg', 'hij', 'klmno', 'pqrstuv', 'wxyz' ]\n",
    "print(alphalist)\n",
    "alphalist.sort(key=len)\n",
    "print(\"Ascending order\",alphalist)\n",
    "alphalist.sort(key=len,reverse=True)\n",
    "print(\"descending order\",alphalist)\n"
   ]
  },
  {
   "cell_type": "code",
   "execution_count": 99,
   "metadata": {},
   "outputs": [
    {
     "name": "stdout",
     "output_type": "stream",
     "text": [
      "[1, 2, 3, 4, 5, 6] \n",
      " ['pqrstuv', 'klmno', 'defg', 'wxyz', 'hij', 'bc', 'a']\n"
     ]
    },
    {
     "data": {
      "text/plain": [
       "[1, 2, 3, 4, 5, 6, 'pqrstuv', 'klmno', 'defg', 'wxyz', 'hij', 'bc', 'a']"
      ]
     },
     "execution_count": 99,
     "metadata": {},
     "output_type": "execute_result"
    }
   ],
   "source": [
    "#Concatenation can be done among lists using + Operator \n",
    "# |prefer Extend over concatenation as Concatenation has to create a new list|\n",
    "combinedlist = lista + alphalist\n",
    "print(lista,\"\\n\",alphalist)\n",
    "combinedlist"
   ]
  },
  {
   "cell_type": "code",
   "execution_count": 107,
   "metadata": {},
   "outputs": [
    {
     "data": {
      "text/plain": [
       "[1, 2, 3, 4, 5, 6, 1, 2, 3, 4, 5, 6, 1, 2, 3, 4, 5, 6]"
      ]
     },
     "execution_count": 107,
     "metadata": {},
     "output_type": "execute_result"
    }
   ],
   "source": [
    "# \"*\" Operator performs Conacatenation os itself specified no of times\n",
    "lista*3"
   ]
  },
  {
   "cell_type": "code",
   "execution_count": 108,
   "metadata": {},
   "outputs": [
    {
     "name": "stdout",
     "output_type": "stream",
     "text": [
      "[1, 2, 3, 4, 5, 6]\n"
     ]
    },
    {
     "data": {
      "text/plain": [
       "6"
      ]
     },
     "execution_count": 108,
     "metadata": {},
     "output_type": "execute_result"
    }
   ],
   "source": [
    "#bisect: if you are looking to add an element into a list and doesnt know the end position of list, \n",
    "# bisect provides the end position of the list to add an element\n",
    "print(lista)\n",
    "import bisect\n",
    "bisect.bisect(lista,8) #Output is the position where you can add \"8\""
   ]
  },
  {
   "cell_type": "code",
   "execution_count": 110,
   "metadata": {},
   "outputs": [
    {
     "name": "stdout",
     "output_type": "stream",
     "text": [
      "[1, 2, 3, 4, 5, 6]\n"
     ]
    },
    {
     "data": {
      "text/plain": [
       "[1, 2, 3, 4, 5, 6, 8]"
      ]
     },
     "execution_count": 110,
     "metadata": {},
     "output_type": "execute_result"
    }
   ],
   "source": [
    "#insort() : is a function which helps in placing the new element into the position found by bisect\n",
    "print(lista)\n",
    "bisect.insort(lista,8)\n",
    "lista"
   ]
  },
  {
   "cell_type": "code",
   "execution_count": 114,
   "metadata": {},
   "outputs": [
    {
     "name": "stdout",
     "output_type": "stream",
     "text": [
      "[1, 2, 3, 4, 5, 6, 8]\n"
     ]
    },
    {
     "data": {
      "text/plain": [
       "[3, 4]"
      ]
     },
     "execution_count": 114,
     "metadata": {},
     "output_type": "execute_result"
    }
   ],
   "source": [
    "#Slicing List[start:stop:step increment] \n",
    "print(lista)\n",
    "lista[2:4] #Slicing to be done from 2nd position till  the 4th position not including 4th position"
   ]
  },
  {
   "cell_type": "code",
   "execution_count": 113,
   "metadata": {},
   "outputs": [
    {
     "name": "stdout",
     "output_type": "stream",
     "text": [
      "[1, 2, 3, 4, 5, 6, 8]\n"
     ]
    },
    {
     "data": {
      "text/plain": [
       "[2, 4]"
      ]
     },
     "execution_count": 113,
     "metadata": {},
     "output_type": "execute_result"
    }
   ],
   "source": [
    "print(lista)\n",
    "lista[1:4:2] #slicing between 1st and 4th position with an increment of 2"
   ]
  },
  {
   "cell_type": "code",
   "execution_count": 116,
   "metadata": {},
   "outputs": [
    {
     "name": "stdout",
     "output_type": "stream",
     "text": [
      "[1, 2, 3, 4, 5, 6, 8]\n"
     ]
    },
    {
     "data": {
      "text/plain": [
       "[8, 6, 5, 4, 3, 2, 1]"
      ]
     },
     "execution_count": 116,
     "metadata": {},
     "output_type": "execute_result"
    }
   ],
   "source": [
    "print(lista)\n",
    "lista[::-1] #Since increment negative starts from last element and goes further till the first element -reversing the list"
   ]
  },
  {
   "cell_type": "code",
   "execution_count": 125,
   "metadata": {},
   "outputs": [
    {
     "name": "stdout",
     "output_type": "stream",
     "text": [
      "['pqrstuv', 'klmno', 'defg', 'wxyz', 'hij', 'bc', 'a']\n"
     ]
    },
    {
     "data": {
      "text/plain": [
       "{0: 'pqrstuv', 1: 'klmno', 2: 'defg', 3: 'wxyz', 4: 'hij', 5: 'bc', 6: 'a'}"
      ]
     },
     "execution_count": 125,
     "metadata": {},
     "output_type": "execute_result"
    }
   ],
   "source": [
    "#Enumerate -Traces the position and value of elements in list. \n",
    "#It returns (i:v)tuples in sequence where \"i\" is position & \"v\" is value\n",
    "enum_list = {}\n",
    "for i,v in  enumerate(alphalist):enum_list[i]=v\n",
    "print(alphalist)\n",
    "enum_list\n",
    "    "
   ]
  },
  {
   "cell_type": "code",
   "execution_count": 131,
   "metadata": {},
   "outputs": [
    {
     "data": {
      "text/plain": [
       "['is', 'this', 'place', 'annoying']"
      ]
     },
     "execution_count": 131,
     "metadata": {},
     "output_type": "execute_result"
    }
   ],
   "source": [
    "#Sorted is similar to list.sort() but can be performen on iterable and doesn't need to have a list to perform\n",
    "sorted(\"this place is annoying\".split(),key = len)"
   ]
  },
  {
   "cell_type": "code",
   "execution_count": 137,
   "metadata": {},
   "outputs": [
    {
     "data": {
      "text/plain": [
       "[(0, 'a', 'x'), (1, 'b', 'y'), (2, 'c', 'z')]"
      ]
     },
     "execution_count": 137,
     "metadata": {},
     "output_type": "execute_result"
    }
   ],
   "source": [
    "#Zip is a command that pairs up multiple lists or tuples to form set of tuples\n",
    "a1 = [0,1,2]\n",
    "b1 = ['a','b','c']\n",
    "c1 = ['x','y','z']\n",
    "zipped = zip(a1,b1,c1)\n",
    "list(zipped)\n"
   ]
  },
  {
   "cell_type": "code",
   "execution_count": 145,
   "metadata": {},
   "outputs": [
    {
     "name": "stdout",
     "output_type": "stream",
     "text": [
      "0:0,a,x\n",
      "1:1,b,y\n",
      "2:2,c,z\n"
     ]
    }
   ],
   "source": [
    "#Method to enumerate tuples in list\n",
    "for i,(a,b,c) in enumerate(zip(a1,b1,c1)):\n",
    "    print('{0}:{1},{2},{3}'.format(i,a,b,c))"
   ]
  },
  {
   "cell_type": "markdown",
   "metadata": {},
   "source": [
    "## TUPLE \n"
   ]
  },
  {
   "cell_type": "code",
   "execution_count": 171,
   "metadata": {},
   "outputs": [],
   "source": [
    "x = (1,2,3)\n",
    "y = ('q','w','e')\n"
   ]
  },
  {
   "cell_type": "code",
   "execution_count": 172,
   "metadata": {},
   "outputs": [
    {
     "data": {
      "text/plain": [
       "((1, 2, 3), ('q', 'w', 'e'))"
      ]
     },
     "execution_count": 172,
     "metadata": {},
     "output_type": "execute_result"
    }
   ],
   "source": [
    "#Tuple can be inside a tuple\n",
    "tup1 =(x,y)\n",
    "tup1"
   ]
  },
  {
   "cell_type": "code",
   "execution_count": 173,
   "metadata": {},
   "outputs": [
    {
     "data": {
      "text/plain": [
       "(['a', 'b', 'c'], [4, 5, 6])"
      ]
     },
     "execution_count": 173,
     "metadata": {},
     "output_type": "execute_result"
    }
   ],
   "source": [
    "#lists can be inside Tuple\n",
    "z=['a','b','c']\n",
    "w=[4,5,6]\n",
    "tup2 = (z,w)\n",
    "tup2\n"
   ]
  },
  {
   "cell_type": "code",
   "execution_count": 174,
   "metadata": {},
   "outputs": [
    {
     "name": "stdout",
     "output_type": "stream",
     "text": [
      "['a', 'b', (1, 2, 3)]\n"
     ]
    },
    {
     "data": {
      "text/plain": [
       "(['a', 'b', (1, 2, 3)], [4, ('q', 'w', 'e'), 6])"
      ]
     },
     "execution_count": 174,
     "metadata": {},
     "output_type": "execute_result"
    }
   ],
   "source": [
    "#Tuple is immutable but list inside a tuple can always be modified\n",
    "z[2] = x\n",
    "w[1] = y\n",
    "print(z)\n",
    "tup2"
   ]
  },
  {
   "cell_type": "code",
   "execution_count": 176,
   "metadata": {},
   "outputs": [
    {
     "data": {
      "text/plain": [
       "(['a', 'b', (1, 2, 3)], [4, ('q', 'w', 'e'), 6, 11])"
      ]
     },
     "execution_count": 176,
     "metadata": {},
     "output_type": "execute_result"
    }
   ],
   "source": [
    "tup2[1].append(11)\n",
    "tup2"
   ]
  },
  {
   "cell_type": "code",
   "execution_count": 178,
   "metadata": {},
   "outputs": [
    {
     "data": {
      "text/plain": [
       "((1, 2, 3),\n",
       " ('q', 'w', 'e'),\n",
       " ['a', 'b', (1, 2, 3)],\n",
       " [4, ('q', 'w', 'e'), 6, 11])"
      ]
     },
     "execution_count": 178,
     "metadata": {},
     "output_type": "execute_result"
    }
   ],
   "source": [
    "#Concatenation can be done in tuples & this is not considered modification as the primary source remains unchanged\n",
    "tup3 = tup1 + tup2\n",
    "tup3"
   ]
  },
  {
   "cell_type": "code",
   "execution_count": 179,
   "metadata": {},
   "outputs": [
    {
     "data": {
      "text/plain": [
       "((1, 2, 3), ('q', 'w', 'e'), (1, 2, 3), ('q', 'w', 'e'))"
      ]
     },
     "execution_count": 179,
     "metadata": {},
     "output_type": "execute_result"
    }
   ],
   "source": [
    "#*operator works similar to that of lists in tuple\n",
    "tup1*2"
   ]
  },
  {
   "cell_type": "code",
   "execution_count": 180,
   "metadata": {},
   "outputs": [
    {
     "name": "stdout",
     "output_type": "stream",
     "text": [
      "(1, 2, 3, 4) (5, 6, 7, 8)\n",
      "(5, 6, 7, 8) (1, 2, 3, 4)\n"
     ]
    }
   ],
   "source": [
    "#Basic commands\n",
    "\n",
    "q1 = 1,2,3,4\n",
    "q2 = 5,6,7,8 \n",
    "print (q1,q2)\n",
    "q1,q2 = q2,q1 #swapping can be done easily in Python unlike anyother programming language\n",
    "print(q1,q2)\n"
   ]
  },
  {
   "cell_type": "code",
   "execution_count": 186,
   "metadata": {},
   "outputs": [
    {
     "name": "stdout",
     "output_type": "stream",
     "text": [
      "11 \n",
      " 12 \n",
      " [13, 14, 15, 16, 17, 18]\n"
     ]
    }
   ],
   "source": [
    "seq = 11,12,13,14,15,16,17,18\n",
    "a2,b2,*c2 = seq\n",
    "print(a2,\"\\n\",b2,\"\\n\",c2)"
   ]
  },
  {
   "cell_type": "code",
   "execution_count": 187,
   "metadata": {},
   "outputs": [
    {
     "name": "stdout",
     "output_type": "stream",
     "text": [
      "1 7\n"
     ]
    }
   ],
   "source": [
    "#count() and index()\n",
    "print(seq.count(11),seq.index(18))"
   ]
  },
  {
   "cell_type": "markdown",
   "metadata": {},
   "source": [
    "## Dictionary "
   ]
  },
  {
   "cell_type": "code",
   "execution_count": 188,
   "metadata": {},
   "outputs": [
    {
     "data": {
      "text/plain": [
       "{'animal': 'dog', 'bird': 'parrot', 'vegetable': 'tomato'}"
      ]
     },
     "execution_count": 188,
     "metadata": {},
     "output_type": "execute_result"
    }
   ],
   "source": [
    "dic = {'animal':'dog','bird':'parrot','vegetable':'tomato'}\n",
    "dic"
   ]
  },
  {
   "cell_type": "code",
   "execution_count": 190,
   "metadata": {},
   "outputs": [
    {
     "data": {
      "text/plain": [
       "'dog'"
      ]
     },
     "execution_count": 190,
     "metadata": {},
     "output_type": "execute_result"
    }
   ],
   "source": [
    "#Accessing elements in dictionary\n",
    "dic['animal']"
   ]
  },
  {
   "cell_type": "code",
   "execution_count": 192,
   "metadata": {},
   "outputs": [
    {
     "data": {
      "text/plain": [
       "{'animal': 'wolf', 'bird': 'parrot', 'vegetable': 'tomato'}"
      ]
     },
     "execution_count": 192,
     "metadata": {},
     "output_type": "execute_result"
    }
   ],
   "source": [
    "#changing elements in dictionary\n",
    "dic['animal'] = 'wolf'\n",
    "dic"
   ]
  },
  {
   "cell_type": "code",
   "execution_count": 193,
   "metadata": {},
   "outputs": [
    {
     "data": {
      "text/plain": [
       "dict_keys(['animal', 'bird', 'vegetable'])"
      ]
     },
     "execution_count": 193,
     "metadata": {},
     "output_type": "execute_result"
    }
   ],
   "source": [
    "#Keys() helps in knowing the key words in dictionary for accessing values\n",
    "dic.keys()"
   ]
  },
  {
   "cell_type": "code",
   "execution_count": 194,
   "metadata": {},
   "outputs": [
    {
     "data": {
      "text/plain": [
       "dict_values(['wolf', 'parrot', 'tomato'])"
      ]
     },
     "execution_count": 194,
     "metadata": {},
     "output_type": "execute_result"
    }
   ],
   "source": [
    "#values() helps in knowing the different elements in dictionary\n",
    "dic.values()"
   ]
  },
  {
   "cell_type": "code",
   "execution_count": null,
   "metadata": {},
   "outputs": [],
   "source": []
  }
 ],
 "metadata": {
  "kernelspec": {
   "display_name": "Python 3",
   "language": "python",
   "name": "python3"
  },
  "language_info": {
   "codemirror_mode": {
    "name": "ipython",
    "version": 3
   },
   "file_extension": ".py",
   "mimetype": "text/x-python",
   "name": "python",
   "nbconvert_exporter": "python",
   "pygments_lexer": "ipython3",
   "version": "3.7.3"
  }
 },
 "nbformat": 4,
 "nbformat_minor": 2
}
